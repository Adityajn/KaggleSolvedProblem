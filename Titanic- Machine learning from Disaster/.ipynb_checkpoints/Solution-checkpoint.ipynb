{
 "cells": [
  {
   "cell_type": "code",
   "execution_count": 2,
   "metadata": {
    "collapsed": true
   },
   "outputs": [],
   "source": [
    "import numpy as np\n",
    "import pandas as pd\n",
    "import warnings\n",
    "warnings.filterwarnings('ignore')"
   ]
  },
  {
   "cell_type": "code",
   "execution_count": 3,
   "metadata": {
    "collapsed": true,
    "scrolled": false
   },
   "outputs": [],
   "source": [
    "df = pd.read_csv(\"train.csv\").set_index('Name')\n",
    "X = df[['Pclass','Sex','SibSp','Parch','Survived','Age']]\n",
    "X = X.replace({\n",
    "    'Sex':{'male':0,'female':1}\n",
    "})\n",
    "y_train = X['Survived'].values\n",
    "X_train = X[['Pclass','Sex','SibSp','Parch','Age']].interpolate().values"
   ]
  },
  {
   "cell_type": "code",
   "execution_count": 4,
   "metadata": {},
   "outputs": [
    {
     "data": {
      "text/plain": [
       "'\\nfrom sklearn.neighbors import KNeighborsRegressor\\nregressor=KNeighborsRegressor(n_neighbors=3)\\nregressor.fit(X.dropna().values[:,0:4],X.dropna().values[:,5])\\nfor i in X_train:\\n        if np.isnan(i[4]):\\n            i[4]=regressor.predict(i[0:4])\\n'"
      ]
     },
     "execution_count": 4,
     "metadata": {},
     "output_type": "execute_result"
    }
   ],
   "source": [
    "\"\"\"\n",
    "from sklearn.neighbors import KNeighborsRegressor\n",
    "regressor=KNeighborsRegressor(n_neighbors=3)\n",
    "regressor.fit(X.dropna().values[:,0:4],X.dropna().values[:,5])\n",
    "for i in X_train:\n",
    "        if np.isnan(i[4]):\n",
    "            i[4]=regressor.predict(i[0:4])\n",
    "\"\"\""
   ]
  },
  {
   "cell_type": "code",
   "execution_count": 9,
   "metadata": {},
   "outputs": [
    {
     "data": {
      "text/plain": [
       "0.79349046015712688"
      ]
     },
     "execution_count": 9,
     "metadata": {},
     "output_type": "execute_result"
    }
   ],
   "source": [
    "from sklearn.svm import SVC\n",
    "classifier=SVC()\n",
    "classifier.fit(X_train,y_train)\n",
    "classifier.score(X_train,y_train)"
   ]
  },
  {
   "cell_type": "code",
   "execution_count": 6,
   "metadata": {},
   "outputs": [
    {
     "data": {
      "text/plain": [
       "'\\nfor i in X_test:\\n        if np.isnan(i[4]):\\n            i[4]=regressor.predict(i[0:4])\\n'"
      ]
     },
     "execution_count": 6,
     "metadata": {},
     "output_type": "execute_result"
    }
   ],
   "source": [
    "tdf = pd.read_csv('test.csv')\n",
    "X_test = tdf[['Pclass','Sex','SibSp','Parch','Age']].interpolate()\n",
    "X_id = tdf['PassengerId'].values\n",
    "X_test = X_test.replace({\n",
    "    'Sex':{'male':0,'female':1}\n",
    "}).values\n",
    "\"\"\"\n",
    "for i in X_test:\n",
    "        if np.isnan(i[4]):\n",
    "            i[4]=regressor.predict(i[0:4])\n",
    "\"\"\""
   ]
  },
  {
   "cell_type": "code",
   "execution_count": 7,
   "metadata": {},
   "outputs": [
    {
     "data": {
      "text/plain": [
       "418"
      ]
     },
     "execution_count": 7,
     "metadata": {},
     "output_type": "execute_result"
    }
   ],
   "source": [
    "y_predict=classifier.predict(X_test)\n",
    "len(y_predict)"
   ]
  },
  {
   "cell_type": "code",
   "execution_count": 8,
   "metadata": {
    "collapsed": true
   },
   "outputs": [],
   "source": [
    "res = np.column_stack((X_id,y_predict))\n",
    "ans = pd.DataFrame(data=res,columns=['PassengerId','Survived'])\n",
    "ans.to_csv('sol.csv',index=False)"
   ]
  }
 ],
 "metadata": {
  "kernelspec": {
   "display_name": "Python 3",
   "language": "python",
   "name": "python3"
  },
  "language_info": {
   "codemirror_mode": {
    "name": "ipython",
    "version": 3
   },
   "file_extension": ".py",
   "mimetype": "text/x-python",
   "name": "python",
   "nbconvert_exporter": "python",
   "pygments_lexer": "ipython3",
   "version": "3.5.2"
  }
 },
 "nbformat": 4,
 "nbformat_minor": 2
}
