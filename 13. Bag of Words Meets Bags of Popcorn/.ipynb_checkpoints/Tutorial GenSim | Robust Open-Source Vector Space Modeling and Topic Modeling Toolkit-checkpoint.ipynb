{
 "cells": [
  {
   "cell_type": "markdown",
   "metadata": {},
   "source": [
    "## GenSim \n",
    "1. A Powerful, Opensource tool for Topic modelling\n",
    "2. Abbrevation for Generate Similar\n",
    "3. Extract Semantic (similar) Topic from  documents\n",
    "4. Find similarity between topics\n",
    "\n",
    "### Topic Modelling\n",
    "1. It is the process of extracting topics from large amount of documents\n",
    "2. "
   ]
  }
 ],
 "metadata": {
  "kernelspec": {
   "display_name": "Python 3",
   "language": "python",
   "name": "python3"
  },
  "language_info": {
   "codemirror_mode": {
    "name": "ipython",
    "version": 3
   },
   "file_extension": ".py",
   "mimetype": "text/x-python",
   "name": "python",
   "nbconvert_exporter": "python",
   "pygments_lexer": "ipython3",
   "version": "3.6.3"
  }
 },
 "nbformat": 4,
 "nbformat_minor": 2
}
