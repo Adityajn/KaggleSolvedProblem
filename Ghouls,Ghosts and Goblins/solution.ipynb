{
 "cells": [
  {
   "cell_type": "code",
   "execution_count": 210,
   "metadata": {
    "collapsed": true
   },
   "outputs": [],
   "source": [
    "import pandas as pd\n",
    "import numpy as np\n",
    "import matplotlib.pyplot as plt\n",
    "\n",
    "%matplotlib inline"
   ]
  },
  {
   "cell_type": "code",
   "execution_count": 211,
   "metadata": {},
   "outputs": [
    {
     "data": {
      "text/html": [
       "<div>\n",
       "<style scoped>\n",
       "    .dataframe tbody tr th:only-of-type {\n",
       "        vertical-align: middle;\n",
       "    }\n",
       "\n",
       "    .dataframe tbody tr th {\n",
       "        vertical-align: top;\n",
       "    }\n",
       "\n",
       "    .dataframe thead th {\n",
       "        text-align: right;\n",
       "    }\n",
       "</style>\n",
       "<table border=\"1\" class=\"dataframe\">\n",
       "  <thead>\n",
       "    <tr style=\"text-align: right;\">\n",
       "      <th></th>\n",
       "      <th>id</th>\n",
       "      <th>bone_length</th>\n",
       "      <th>rotting_flesh</th>\n",
       "      <th>hair_length</th>\n",
       "      <th>has_soul</th>\n",
       "      <th>color</th>\n",
       "      <th>type</th>\n",
       "    </tr>\n",
       "  </thead>\n",
       "  <tbody>\n",
       "    <tr>\n",
       "      <th>0</th>\n",
       "      <td>0</td>\n",
       "      <td>0.354512</td>\n",
       "      <td>0.350839</td>\n",
       "      <td>0.465761</td>\n",
       "      <td>0.781142</td>\n",
       "      <td>clear</td>\n",
       "      <td>Ghoul</td>\n",
       "    </tr>\n",
       "    <tr>\n",
       "      <th>1</th>\n",
       "      <td>1</td>\n",
       "      <td>0.575560</td>\n",
       "      <td>0.425868</td>\n",
       "      <td>0.531401</td>\n",
       "      <td>0.439899</td>\n",
       "      <td>green</td>\n",
       "      <td>Goblin</td>\n",
       "    </tr>\n",
       "    <tr>\n",
       "      <th>2</th>\n",
       "      <td>2</td>\n",
       "      <td>0.467875</td>\n",
       "      <td>0.354330</td>\n",
       "      <td>0.811616</td>\n",
       "      <td>0.791225</td>\n",
       "      <td>black</td>\n",
       "      <td>Ghoul</td>\n",
       "    </tr>\n",
       "    <tr>\n",
       "      <th>3</th>\n",
       "      <td>4</td>\n",
       "      <td>0.776652</td>\n",
       "      <td>0.508723</td>\n",
       "      <td>0.636766</td>\n",
       "      <td>0.884464</td>\n",
       "      <td>black</td>\n",
       "      <td>Ghoul</td>\n",
       "    </tr>\n",
       "    <tr>\n",
       "      <th>4</th>\n",
       "      <td>5</td>\n",
       "      <td>0.566117</td>\n",
       "      <td>0.875862</td>\n",
       "      <td>0.418594</td>\n",
       "      <td>0.636438</td>\n",
       "      <td>green</td>\n",
       "      <td>Ghost</td>\n",
       "    </tr>\n",
       "  </tbody>\n",
       "</table>\n",
       "</div>"
      ],
      "text/plain": [
       "   id  bone_length  rotting_flesh  hair_length  has_soul  color    type\n",
       "0   0     0.354512       0.350839     0.465761  0.781142  clear   Ghoul\n",
       "1   1     0.575560       0.425868     0.531401  0.439899  green  Goblin\n",
       "2   2     0.467875       0.354330     0.811616  0.791225  black   Ghoul\n",
       "3   4     0.776652       0.508723     0.636766  0.884464  black   Ghoul\n",
       "4   5     0.566117       0.875862     0.418594  0.636438  green   Ghost"
      ]
     },
     "execution_count": 211,
     "metadata": {},
     "output_type": "execute_result"
    }
   ],
   "source": [
    "dftrain = pd.read_csv(\"train.csv\")\n",
    "dftest = pd.read_csv(\"test.csv\")\n",
    "dftrain.head(5)"
   ]
  },
  {
   "cell_type": "code",
   "execution_count": 212,
   "metadata": {},
   "outputs": [
    {
     "data": {
      "text/html": [
       "<div>\n",
       "<style scoped>\n",
       "    .dataframe tbody tr th:only-of-type {\n",
       "        vertical-align: middle;\n",
       "    }\n",
       "\n",
       "    .dataframe tbody tr th {\n",
       "        vertical-align: top;\n",
       "    }\n",
       "\n",
       "    .dataframe thead th {\n",
       "        text-align: right;\n",
       "    }\n",
       "</style>\n",
       "<table border=\"1\" class=\"dataframe\">\n",
       "  <thead>\n",
       "    <tr style=\"text-align: right;\">\n",
       "      <th></th>\n",
       "      <th>bone_length</th>\n",
       "      <th>rotting_flesh</th>\n",
       "      <th>hair_length</th>\n",
       "      <th>has_soul</th>\n",
       "      <th>color</th>\n",
       "    </tr>\n",
       "  </thead>\n",
       "  <tbody>\n",
       "    <tr>\n",
       "      <th>0</th>\n",
       "      <td>0.471774</td>\n",
       "      <td>0.387937</td>\n",
       "      <td>0.706087</td>\n",
       "      <td>0.698537</td>\n",
       "      <td>black</td>\n",
       "    </tr>\n",
       "    <tr>\n",
       "      <th>1</th>\n",
       "      <td>0.427332</td>\n",
       "      <td>0.645024</td>\n",
       "      <td>0.565558</td>\n",
       "      <td>0.451462</td>\n",
       "      <td>white</td>\n",
       "    </tr>\n",
       "    <tr>\n",
       "      <th>2</th>\n",
       "      <td>0.549602</td>\n",
       "      <td>0.491931</td>\n",
       "      <td>0.660387</td>\n",
       "      <td>0.449809</td>\n",
       "      <td>black</td>\n",
       "    </tr>\n",
       "    <tr>\n",
       "      <th>3</th>\n",
       "      <td>0.638095</td>\n",
       "      <td>0.682867</td>\n",
       "      <td>0.471409</td>\n",
       "      <td>0.356924</td>\n",
       "      <td>white</td>\n",
       "    </tr>\n",
       "    <tr>\n",
       "      <th>4</th>\n",
       "      <td>0.361762</td>\n",
       "      <td>0.583997</td>\n",
       "      <td>0.377256</td>\n",
       "      <td>0.276364</td>\n",
       "      <td>black</td>\n",
       "    </tr>\n",
       "  </tbody>\n",
       "</table>\n",
       "</div>"
      ],
      "text/plain": [
       "   bone_length  rotting_flesh  hair_length  has_soul  color\n",
       "0     0.471774       0.387937     0.706087  0.698537  black\n",
       "1     0.427332       0.645024     0.565558  0.451462  white\n",
       "2     0.549602       0.491931     0.660387  0.449809  black\n",
       "3     0.638095       0.682867     0.471409  0.356924  white\n",
       "4     0.361762       0.583997     0.377256  0.276364  black"
      ]
     },
     "execution_count": 212,
     "metadata": {},
     "output_type": "execute_result"
    }
   ],
   "source": [
    "test_ids = dftest.id\n",
    "X_test = dftest.drop(columns=['id'])\n",
    "X_test.head(5)"
   ]
  },
  {
   "cell_type": "code",
   "execution_count": 213,
   "metadata": {},
   "outputs": [
    {
     "data": {
      "text/html": [
       "<div>\n",
       "<style scoped>\n",
       "    .dataframe tbody tr th:only-of-type {\n",
       "        vertical-align: middle;\n",
       "    }\n",
       "\n",
       "    .dataframe tbody tr th {\n",
       "        vertical-align: top;\n",
       "    }\n",
       "\n",
       "    .dataframe thead th {\n",
       "        text-align: right;\n",
       "    }\n",
       "</style>\n",
       "<table border=\"1\" class=\"dataframe\">\n",
       "  <thead>\n",
       "    <tr style=\"text-align: right;\">\n",
       "      <th></th>\n",
       "      <th>bone_length</th>\n",
       "      <th>rotting_flesh</th>\n",
       "      <th>hair_length</th>\n",
       "      <th>has_soul</th>\n",
       "      <th>color</th>\n",
       "    </tr>\n",
       "  </thead>\n",
       "  <tbody>\n",
       "    <tr>\n",
       "      <th>0</th>\n",
       "      <td>0.354512</td>\n",
       "      <td>0.350839</td>\n",
       "      <td>0.465761</td>\n",
       "      <td>0.781142</td>\n",
       "      <td>clear</td>\n",
       "    </tr>\n",
       "    <tr>\n",
       "      <th>1</th>\n",
       "      <td>0.575560</td>\n",
       "      <td>0.425868</td>\n",
       "      <td>0.531401</td>\n",
       "      <td>0.439899</td>\n",
       "      <td>green</td>\n",
       "    </tr>\n",
       "    <tr>\n",
       "      <th>2</th>\n",
       "      <td>0.467875</td>\n",
       "      <td>0.354330</td>\n",
       "      <td>0.811616</td>\n",
       "      <td>0.791225</td>\n",
       "      <td>black</td>\n",
       "    </tr>\n",
       "    <tr>\n",
       "      <th>3</th>\n",
       "      <td>0.776652</td>\n",
       "      <td>0.508723</td>\n",
       "      <td>0.636766</td>\n",
       "      <td>0.884464</td>\n",
       "      <td>black</td>\n",
       "    </tr>\n",
       "    <tr>\n",
       "      <th>4</th>\n",
       "      <td>0.566117</td>\n",
       "      <td>0.875862</td>\n",
       "      <td>0.418594</td>\n",
       "      <td>0.636438</td>\n",
       "      <td>green</td>\n",
       "    </tr>\n",
       "  </tbody>\n",
       "</table>\n",
       "</div>"
      ],
      "text/plain": [
       "   bone_length  rotting_flesh  hair_length  has_soul  color\n",
       "0     0.354512       0.350839     0.465761  0.781142  clear\n",
       "1     0.575560       0.425868     0.531401  0.439899  green\n",
       "2     0.467875       0.354330     0.811616  0.791225  black\n",
       "3     0.776652       0.508723     0.636766  0.884464  black\n",
       "4     0.566117       0.875862     0.418594  0.636438  green"
      ]
     },
     "execution_count": 213,
     "metadata": {},
     "output_type": "execute_result"
    }
   ],
   "source": [
    "Y_train = dftrain.type\n",
    "X_train = dftrain.drop(['type','id'],1)\n",
    "X_train.head()"
   ]
  },
  {
   "cell_type": "code",
   "execution_count": 214,
   "metadata": {},
   "outputs": [],
   "source": [
    "#from catboost import CatBoostClassifier\n",
    "from sklearn.model_selection import GridSearchCV"
   ]
  },
  {
   "cell_type": "code",
   "execution_count": 215,
   "metadata": {
    "scrolled": true
   },
   "outputs": [
    {
     "name": "stdout",
     "output_type": "stream",
     "text": [
      "(371, 5) (529, 5)\n",
      "(371, 10) (371,) (529, 10) (529,)\n"
     ]
    },
    {
     "data": {
      "text/html": [
       "<div>\n",
       "<style scoped>\n",
       "    .dataframe tbody tr th:only-of-type {\n",
       "        vertical-align: middle;\n",
       "    }\n",
       "\n",
       "    .dataframe tbody tr th {\n",
       "        vertical-align: top;\n",
       "    }\n",
       "\n",
       "    .dataframe thead th {\n",
       "        text-align: right;\n",
       "    }\n",
       "</style>\n",
       "<table border=\"1\" class=\"dataframe\">\n",
       "  <thead>\n",
       "    <tr style=\"text-align: right;\">\n",
       "      <th></th>\n",
       "      <th>bone_length</th>\n",
       "      <th>rotting_flesh</th>\n",
       "      <th>hair_length</th>\n",
       "      <th>has_soul</th>\n",
       "      <th>color_black</th>\n",
       "      <th>color_blood</th>\n",
       "      <th>color_blue</th>\n",
       "      <th>color_clear</th>\n",
       "      <th>color_green</th>\n",
       "      <th>color_white</th>\n",
       "    </tr>\n",
       "  </thead>\n",
       "  <tbody>\n",
       "    <tr>\n",
       "      <th>0</th>\n",
       "      <td>0.354512</td>\n",
       "      <td>0.350839</td>\n",
       "      <td>0.465761</td>\n",
       "      <td>0.781142</td>\n",
       "      <td>0</td>\n",
       "      <td>0</td>\n",
       "      <td>0</td>\n",
       "      <td>1</td>\n",
       "      <td>0</td>\n",
       "      <td>0</td>\n",
       "    </tr>\n",
       "    <tr>\n",
       "      <th>1</th>\n",
       "      <td>0.575560</td>\n",
       "      <td>0.425868</td>\n",
       "      <td>0.531401</td>\n",
       "      <td>0.439899</td>\n",
       "      <td>0</td>\n",
       "      <td>0</td>\n",
       "      <td>0</td>\n",
       "      <td>0</td>\n",
       "      <td>1</td>\n",
       "      <td>0</td>\n",
       "    </tr>\n",
       "    <tr>\n",
       "      <th>2</th>\n",
       "      <td>0.467875</td>\n",
       "      <td>0.354330</td>\n",
       "      <td>0.811616</td>\n",
       "      <td>0.791225</td>\n",
       "      <td>1</td>\n",
       "      <td>0</td>\n",
       "      <td>0</td>\n",
       "      <td>0</td>\n",
       "      <td>0</td>\n",
       "      <td>0</td>\n",
       "    </tr>\n",
       "    <tr>\n",
       "      <th>3</th>\n",
       "      <td>0.776652</td>\n",
       "      <td>0.508723</td>\n",
       "      <td>0.636766</td>\n",
       "      <td>0.884464</td>\n",
       "      <td>1</td>\n",
       "      <td>0</td>\n",
       "      <td>0</td>\n",
       "      <td>0</td>\n",
       "      <td>0</td>\n",
       "      <td>0</td>\n",
       "    </tr>\n",
       "    <tr>\n",
       "      <th>4</th>\n",
       "      <td>0.566117</td>\n",
       "      <td>0.875862</td>\n",
       "      <td>0.418594</td>\n",
       "      <td>0.636438</td>\n",
       "      <td>0</td>\n",
       "      <td>0</td>\n",
       "      <td>0</td>\n",
       "      <td>0</td>\n",
       "      <td>1</td>\n",
       "      <td>0</td>\n",
       "    </tr>\n",
       "  </tbody>\n",
       "</table>\n",
       "</div>"
      ],
      "text/plain": [
       "   bone_length  rotting_flesh  hair_length  has_soul  color_black  \\\n",
       "0     0.354512       0.350839     0.465761  0.781142            0   \n",
       "1     0.575560       0.425868     0.531401  0.439899            0   \n",
       "2     0.467875       0.354330     0.811616  0.791225            1   \n",
       "3     0.776652       0.508723     0.636766  0.884464            1   \n",
       "4     0.566117       0.875862     0.418594  0.636438            0   \n",
       "\n",
       "   color_blood  color_blue  color_clear  color_green  color_white  \n",
       "0            0           0            1            0            0  \n",
       "1            0           0            0            1            0  \n",
       "2            0           0            0            0            0  \n",
       "3            0           0            0            0            0  \n",
       "4            0           0            0            1            0  "
      ]
     },
     "execution_count": 215,
     "metadata": {},
     "output_type": "execute_result"
    }
   ],
   "source": [
    "print(X_train.shape,X_test.shape)\n",
    "X_all = X_train.append(X_test)\n",
    "X_all.shape\n",
    "X_all=pd.get_dummies(X_all,columns=['color'],prefix=['color'],prefix_sep='_')\n",
    "X_train = X_all[:371]\n",
    "X_test = X_all[371:]\n",
    "print(X_train.shape,Y_train.shape,X_test.shape,test_ids.shape)\n",
    "X_train.head()"
   ]
  },
  {
   "cell_type": "code",
   "execution_count": 218,
   "metadata": {
    "scrolled": true
   },
   "outputs": [
    {
     "data": {
      "text/plain": [
       "''"
      ]
     },
     "execution_count": 218,
     "metadata": {},
     "output_type": "execute_result"
    }
   ],
   "source": [
    "\"\"\"\n",
    "from sklearn.svm import SVC\n",
    "params = {\n",
    "    'kernel':['linear','rbf'],\n",
    "    'C':[0.5,1.0,1.5]\n",
    "} \n",
    "svc = SVC()\n",
    "gridsearch_svm = GridSearchCV(svc,param_grid=params,scoring='accuracy',cv=5,verbose=3,n_jobs=5)\n",
    "gridsearch_svm.fit(X_train,Y_train)\n",
    "best_svm = gridsearch_svm.best_estimator_\n",
    "print(best_svm)\n",
    "best_svm.fit(X_train,Y_train)\n",
    "best_svm.score(X_train,Y_train)\n",
    "\"\"\"\n",
    "''"
   ]
  },
  {
   "cell_type": "code",
   "execution_count": 217,
   "metadata": {},
   "outputs": [
    {
     "data": {
      "text/plain": [
       "''"
      ]
     },
     "execution_count": 217,
     "metadata": {},
     "output_type": "execute_result"
    }
   ],
   "source": [
    "\"\"\"\n",
    "Y_train = pd.DataFrame({\n",
    "    'type':Y_train\n",
    "})\n",
    "Y_train.head()\n",
    "Y_train[Y_train['type']=='Ghoul'] = 1\n",
    "Y_train[Y_train['type']=='Goblin'] = 2\n",
    "Y_train[Y_train['type']=='Ghost'] = 3\n",
    "Y_train.head()\n",
    "\"\"\"\n",
    "''"
   ]
  },
  {
   "cell_type": "code",
   "execution_count": 219,
   "metadata": {},
   "outputs": [
    {
     "data": {
      "text/plain": [
       "''"
      ]
     },
     "execution_count": 219,
     "metadata": {},
     "output_type": "execute_result"
    }
   ],
   "source": [
    "\"\"\"\n",
    "from catboost import CatBoostClassifier,Pool\n",
    "params= {\n",
    "    'iterations':500,\n",
    "    'learning_rate':0.1,\n",
    "    'depth':None,\n",
    "    'random_seed':5,\n",
    "    'logging_level':'Verbose',\n",
    "    'use_best_model':True,\n",
    "    'loss_function':'MultiClass'\n",
    "}\n",
    "clf = CatBoostClassifier(**params)\n",
    "from sklearn.model_selection import train_test_split\n",
    "X_train,X_validation,Y_train,Y_validation = train_test_split(X_train,Y_train,test_size=0.3)\n",
    "train_pool = Pool(X_train,Y_train,cat_features=[4],has_header=True)\n",
    "validation_pool = Pool(X_validation,Y_validation,cat_features=[4],has_header=True)\n",
    "clf.fit(train_pool,eval_set=validation_pool,verbose=True)\n",
    "clf.score(X_validation,Y_validation)\n",
    "\"\"\"\n",
    "''"
   ]
  },
  {
   "cell_type": "code",
   "execution_count": 223,
   "metadata": {},
   "outputs": [
    {
     "name": "stdout",
     "output_type": "stream",
     "text": [
      "Fitting 4 folds for each of 16 candidates, totalling 64 fits\n",
      "[CV] max_depth=3, n_estimators=10 ....................................\n",
      "[CV] max_depth=3, n_estimators=10 ....................................\n",
      "[CV] max_depth=3, n_estimators=10 ....................................\n",
      "[CV] max_depth=3, n_estimators=10 ....................................\n",
      "[CV]  max_depth=3, n_estimators=10, score=0.717391304347826, total=   0.1s\n",
      "[CV]  max_depth=3, n_estimators=10, score=0.6105263157894737, total=   0.1s\n",
      "[CV] max_depth=3, n_estimators=30 ....................................\n",
      "[CV] max_depth=3, n_estimators=30 ....................................\n",
      "[CV]  max_depth=3, n_estimators=10, score=0.7065217391304348, total=   0.1s\n",
      "[CV] max_depth=3, n_estimators=30 ....................................\n",
      "[CV]  max_depth=3, n_estimators=10, score=0.6521739130434783, total=   0.1s\n",
      "[CV] max_depth=3, n_estimators=30 ....................................\n",
      "[CV]  max_depth=3, n_estimators=30, score=0.6421052631578947, total=   0.2s\n",
      "[CV] max_depth=3, n_estimators=50 ....................................\n",
      "[CV]  max_depth=3, n_estimators=30, score=0.717391304347826, total=   0.2s\n",
      "[CV]  max_depth=3, n_estimators=30, score=0.6847826086956522, total=   0.2s\n",
      "[CV] max_depth=3, n_estimators=50 ....................................\n",
      "[CV] max_depth=3, n_estimators=100 ...................................\n",
      "[CV]  max_depth=3, n_estimators=30, score=0.7065217391304348, total=   0.3s\n",
      "[CV] max_depth=3, n_estimators=100 ...................................\n",
      "[CV]  max_depth=3, n_estimators=50, score=0.6842105263157895, total=   0.3s\n",
      "[CV] max_depth=3, n_estimators=50 ....................................\n",
      "[CV]  max_depth=3, n_estimators=50, score=0.6956521739130435, total=   0.4s\n",
      "[CV] max_depth=3, n_estimators=50 ....................................\n",
      "[CV]  max_depth=3, n_estimators=100, score=0.6736842105263158, total=   0.5s\n",
      "[CV]  max_depth=3, n_estimators=50, score=0.6739130434782609, total=   0.2s\n",
      "[CV] max_depth=6, n_estimators=10 ....................................\n",
      "[CV] max_depth=3, n_estimators=100 ...................................\n",
      "[CV]  max_depth=6, n_estimators=10, score=0.6947368421052632, total=   0.1s\n",
      "[CV] max_depth=6, n_estimators=10 ....................................\n",
      "[CV]  max_depth=6, n_estimators=10, score=0.717391304347826, total=   0.0s\n",
      "[CV] max_depth=6, n_estimators=10 ....................................\n",
      "[CV]  max_depth=3, n_estimators=100, score=0.717391304347826, total=   0.5s\n",
      "[CV]  max_depth=3, n_estimators=50, score=0.6739130434782609, total=   0.3s\n",
      "[CV] max_depth=3, n_estimators=100 ...................................\n",
      "[CV] max_depth=6, n_estimators=30 ....................................\n",
      "[CV]  max_depth=6, n_estimators=10, score=0.7065217391304348, total=   0.1s\n",
      "[CV] max_depth=6, n_estimators=10 ....................................\n",
      "[CV]  max_depth=6, n_estimators=10, score=0.6521739130434783, total=   0.1s\n",
      "[CV] max_depth=6, n_estimators=30 ....................................\n",
      "[CV]  max_depth=6, n_estimators=30, score=0.6947368421052632, total=   0.2s\n",
      "[CV] max_depth=6, n_estimators=30 ....................................\n",
      "[CV]  max_depth=6, n_estimators=30, score=0.7065217391304348, total=   0.2s\n",
      "[CV] max_depth=6, n_estimators=30 ....................................\n",
      "[CV]  max_depth=6, n_estimators=30, score=0.6847826086956522, total=   0.2s\n",
      "[CV] max_depth=6, n_estimators=50 ....................................\n",
      "[CV]  max_depth=6, n_estimators=30, score=0.6521739130434783, total=   0.2s\n",
      "[CV] max_depth=6, n_estimators=50 ....................................\n",
      "[CV]  max_depth=3, n_estimators=100, score=0.717391304347826, total=   0.7s\n",
      "[CV] max_depth=6, n_estimators=100 ...................................\n",
      "[CV]  max_depth=3, n_estimators=100, score=0.7065217391304348, total=   0.6s\n",
      "[CV] max_depth=6, n_estimators=100 ...................................\n",
      "[CV]  max_depth=6, n_estimators=50, score=0.631578947368421, total=   0.3s\n",
      "[CV] max_depth=6, n_estimators=50 ....................................\n",
      "[CV]  max_depth=6, n_estimators=50, score=0.6847826086956522, total=   0.4s\n",
      "[CV] max_depth=6, n_estimators=50 ....................................\n",
      "[CV]  max_depth=6, n_estimators=100, score=0.7052631578947368, total=   0.6s\n",
      "[CV]  max_depth=6, n_estimators=50, score=0.717391304347826, total=   0.3s\n",
      "[CV] max_depth=6, n_estimators=100 ...................................\n",
      "[CV] max_depth=10, n_estimators=10 ...................................\n",
      "[CV]  max_depth=6, n_estimators=50, score=0.7391304347826086, total=   0.3s\n",
      "[CV] max_depth=10, n_estimators=10 ...................................\n",
      "[CV]  max_depth=10, n_estimators=10, score=0.6526315789473685, total=   0.1s\n",
      "[CV]  max_depth=10, n_estimators=10, score=0.6956521739130435, total=   0.1s\n",
      "[CV] max_depth=10, n_estimators=10 ...................................\n",
      "[CV] max_depth=10, n_estimators=10 ...................................\n",
      "[CV]  max_depth=6, n_estimators=100, score=0.6956521739130435, total=   0.7s\n",
      "[CV] max_depth=6, n_estimators=100 ...................................\n",
      "[CV]  max_depth=10, n_estimators=10, score=0.7065217391304348, total=   0.1s\n",
      "[CV] max_depth=10, n_estimators=30 ...................................\n",
      "[CV]  max_depth=10, n_estimators=10, score=0.6847826086956522, total=   0.1s\n",
      "[CV] max_depth=10, n_estimators=30 ...................................\n",
      "[CV]  max_depth=10, n_estimators=30, score=0.717391304347826, total=   0.2s\n",
      "[CV] max_depth=10, n_estimators=30 ...................................\n",
      "[CV]  max_depth=10, n_estimators=30, score=0.6631578947368421, total=   0.3s\n",
      "[CV] max_depth=10, n_estimators=30 ...................................\n",
      "[CV]  max_depth=6, n_estimators=100, score=0.6630434782608695, total=   0.6s\n",
      "[CV] max_depth=10, n_estimators=50 ...................................\n",
      "[CV]  max_depth=10, n_estimators=30, score=0.6847826086956522, total=   0.2s\n",
      "[CV] max_depth=10, n_estimators=50 ...................................\n",
      "[CV]  max_depth=6, n_estimators=100, score=0.6521739130434783, total=   0.6s\n",
      "[CV] max_depth=10, n_estimators=100 ..................................\n",
      "[CV]  max_depth=10, n_estimators=30, score=0.7065217391304348, total=   0.3s\n",
      "[CV] max_depth=10, n_estimators=100 ..................................\n",
      "[CV]  max_depth=10, n_estimators=50, score=0.7052631578947368, total=   0.2s\n",
      "[CV] max_depth=10, n_estimators=50 ...................................\n",
      "[CV]  max_depth=10, n_estimators=50, score=0.7282608695652174, total=   0.4s\n",
      "[CV] max_depth=10, n_estimators=50 ...................................\n"
     ]
    },
    {
     "name": "stderr",
     "output_type": "stream",
     "text": [
      "[Parallel(n_jobs=4)]: Done  40 tasks      | elapsed:    3.4s\n"
     ]
    },
    {
     "name": "stdout",
     "output_type": "stream",
     "text": [
      "[CV]  max_depth=10, n_estimators=50, score=0.6630434782608695, total=   0.4s\n",
      "[CV] max_depth=None, n_estimators=10 .................................\n",
      "[CV]  max_depth=10, n_estimators=100, score=0.7052631578947368, total=   0.5s\n",
      "[CV] max_depth=10, n_estimators=100 ..................................\n",
      "[CV]  max_depth=None, n_estimators=10, score=0.6421052631578947, total=   0.1s\n",
      "[CV] max_depth=None, n_estimators=10 .................................\n",
      "[CV]  max_depth=10, n_estimators=50, score=0.6630434782608695, total=   0.4s\n",
      "[CV] max_depth=None, n_estimators=10 .................................\n",
      "[CV]  max_depth=None, n_estimators=10, score=0.6847826086956522, total=   0.1s\n",
      "[CV] max_depth=None, n_estimators=30 .................................\n",
      "[CV]  max_depth=10, n_estimators=100, score=0.7065217391304348, total=   0.7s\n",
      "[CV]  max_depth=None, n_estimators=10, score=0.7065217391304348, total=   0.1s\n",
      "[CV] max_depth=None, n_estimators=10 .................................\n",
      "[CV] max_depth=10, n_estimators=100 ..................................\n",
      "[CV]  max_depth=None, n_estimators=30, score=0.6631578947368421, total=   0.2s\n",
      "[CV] max_depth=None, n_estimators=30 .................................\n",
      "[CV]  max_depth=None, n_estimators=10, score=0.6195652173913043, total=   0.1s\n",
      "[CV] max_depth=None, n_estimators=30 .................................\n",
      "[CV]  max_depth=None, n_estimators=30, score=0.7391304347826086, total=   0.2s\n",
      "[CV] max_depth=None, n_estimators=50 .................................\n",
      "[CV]  max_depth=None, n_estimators=30, score=0.7282608695652174, total=   0.1s\n",
      "[CV] max_depth=None, n_estimators=30 .................................\n",
      "[CV]  max_depth=10, n_estimators=100, score=0.7065217391304348, total=   0.7s\n",
      "[CV] max_depth=None, n_estimators=50 .................................\n",
      "[CV]  max_depth=None, n_estimators=30, score=0.6956521739130435, total=   0.1s\n",
      "[CV] max_depth=None, n_estimators=100 ................................\n",
      "[CV]  max_depth=10, n_estimators=100, score=0.7282608695652174, total=   0.5s\n",
      "[CV] max_depth=None, n_estimators=100 ................................\n",
      "[CV]  max_depth=None, n_estimators=50, score=0.6947368421052632, total=   0.3s\n",
      "[CV] max_depth=None, n_estimators=50 .................................\n",
      "[CV]  max_depth=None, n_estimators=50, score=0.7282608695652174, total=   0.4s\n",
      "[CV] max_depth=None, n_estimators=50 .................................\n",
      "[CV]  max_depth=None, n_estimators=50, score=0.717391304347826, total=   0.3s\n",
      "[CV]  max_depth=None, n_estimators=100, score=0.6421052631578947, total=   0.6s\n",
      "[CV] max_depth=None, n_estimators=100 ................................\n",
      "[CV]  max_depth=None, n_estimators=50, score=0.6739130434782609, total=   0.3s\n",
      "[CV]  max_depth=None, n_estimators=100, score=0.717391304347826, total=   0.6s\n",
      "[CV] max_depth=None, n_estimators=100 ................................\n",
      "[CV]  max_depth=None, n_estimators=100, score=0.7065217391304348, total=   0.3s\n",
      "[CV]  max_depth=None, n_estimators=100, score=0.6956521739130435, total=   0.3s\n"
     ]
    },
    {
     "name": "stderr",
     "output_type": "stream",
     "text": [
      "[Parallel(n_jobs=4)]: Done  64 out of  64 | elapsed:    5.8s finished\n"
     ]
    }
   ],
   "source": [
    "from sklearn.ensemble import RandomForestClassifier\n",
    "clf = RandomForestClassifier()\n",
    "param_grid={\n",
    "    'n_estimators':[10,30,50,100],\n",
    "    'max_depth':[3,6,10,None]\n",
    "}\n",
    "gridsearch_rf = GridSearchCV(clf,param_grid=param_grid,scoring='accuracy',n_jobs=4,cv=4,verbose=3).fit(X_train,Y_train)\n",
    "best_rf = gridsearch_rf.best_estimator_"
   ]
  },
  {
   "cell_type": "code",
   "execution_count": 224,
   "metadata": {},
   "outputs": [
    {
     "data": {
      "text/plain": [
       "\"\\npred = pd.DataFrame(predictions)\\npred[pred[0]==1] = 'Ghoul'\\npred[pred[0]==2] = 'Goblin'\\npred[pred[0]==3] = 'Ghost'\\npred.head()\\n\""
      ]
     },
     "execution_count": 224,
     "metadata": {},
     "output_type": "execute_result"
    }
   ],
   "source": [
    "#predictions = best_svm.predict(X_test)\n",
    "predictions = best_rf.predict(X_test)\n",
    "\n",
    "\"\"\"\n",
    "pred = pd.DataFrame(predictions)\n",
    "pred[pred[0]==1] = 'Ghoul'\n",
    "pred[pred[0]==2] = 'Goblin'\n",
    "pred[pred[0]==3] = 'Ghost'\n",
    "pred.head()\n",
    "\"\"\""
   ]
  },
  {
   "cell_type": "code",
   "execution_count": 228,
   "metadata": {},
   "outputs": [
    {
     "name": "stdout",
     "output_type": "stream",
     "text": [
      "(529, 2)\n"
     ]
    },
    {
     "data": {
      "text/html": [
       "<div>\n",
       "<style scoped>\n",
       "    .dataframe tbody tr th:only-of-type {\n",
       "        vertical-align: middle;\n",
       "    }\n",
       "\n",
       "    .dataframe tbody tr th {\n",
       "        vertical-align: top;\n",
       "    }\n",
       "\n",
       "    .dataframe thead th {\n",
       "        text-align: right;\n",
       "    }\n",
       "</style>\n",
       "<table border=\"1\" class=\"dataframe\">\n",
       "  <thead>\n",
       "    <tr style=\"text-align: right;\">\n",
       "      <th></th>\n",
       "      <th>id</th>\n",
       "      <th>type</th>\n",
       "    </tr>\n",
       "  </thead>\n",
       "  <tbody>\n",
       "    <tr>\n",
       "      <th>0</th>\n",
       "      <td>3</td>\n",
       "      <td>Ghoul</td>\n",
       "    </tr>\n",
       "    <tr>\n",
       "      <th>1</th>\n",
       "      <td>6</td>\n",
       "      <td>Goblin</td>\n",
       "    </tr>\n",
       "    <tr>\n",
       "      <th>2</th>\n",
       "      <td>9</td>\n",
       "      <td>Ghoul</td>\n",
       "    </tr>\n",
       "    <tr>\n",
       "      <th>3</th>\n",
       "      <td>10</td>\n",
       "      <td>Ghost</td>\n",
       "    </tr>\n",
       "    <tr>\n",
       "      <th>4</th>\n",
       "      <td>13</td>\n",
       "      <td>Ghost</td>\n",
       "    </tr>\n",
       "  </tbody>\n",
       "</table>\n",
       "</div>"
      ],
      "text/plain": [
       "   id    type\n",
       "0   3   Ghoul\n",
       "1   6  Goblin\n",
       "2   9   Ghoul\n",
       "3  10   Ghost\n",
       "4  13   Ghost"
      ]
     },
     "execution_count": 228,
     "metadata": {},
     "output_type": "execute_result"
    }
   ],
   "source": [
    "res = pd.DataFrame({\n",
    "    \"id\":test_ids,\n",
    "    \"type\":predictions\n",
    "})\n",
    "print(res.shape)\n",
    "res.head(5)"
   ]
  },
  {
   "cell_type": "code",
   "execution_count": 229,
   "metadata": {
    "collapsed": true
   },
   "outputs": [],
   "source": [
    "res.to_csv(\"sol.csv\",index=False,header=['id','type'])"
   ]
  },
  {
   "cell_type": "code",
   "execution_count": null,
   "metadata": {
    "collapsed": true
   },
   "outputs": [],
   "source": []
  }
 ],
 "metadata": {
  "kernelspec": {
   "display_name": "Python 3",
   "language": "python",
   "name": "python3"
  },
  "language_info": {
   "codemirror_mode": {
    "name": "ipython",
    "version": 3
   },
   "file_extension": ".py",
   "mimetype": "text/x-python",
   "name": "python",
   "nbconvert_exporter": "python",
   "pygments_lexer": "ipython3",
   "version": "3.6.3"
  }
 },
 "nbformat": 4,
 "nbformat_minor": 2
}
