{
 "cells": [
  {
   "cell_type": "code",
   "execution_count": 1,
   "metadata": {
    "collapsed": true
   },
   "outputs": [],
   "source": [
    "import numpy as np\n",
    "import pandas as pd"
   ]
  },
  {
   "cell_type": "code",
   "execution_count": 2,
   "metadata": {},
   "outputs": [
    {
     "name": "stdout",
     "output_type": "stream",
     "text": [
      "(15120, 56) (565892, 55)\n"
     ]
    },
    {
     "data": {
      "text/html": [
       "<div>\n",
       "<style scoped>\n",
       "    .dataframe tbody tr th:only-of-type {\n",
       "        vertical-align: middle;\n",
       "    }\n",
       "\n",
       "    .dataframe tbody tr th {\n",
       "        vertical-align: top;\n",
       "    }\n",
       "\n",
       "    .dataframe thead th {\n",
       "        text-align: right;\n",
       "    }\n",
       "</style>\n",
       "<table border=\"1\" class=\"dataframe\">\n",
       "  <thead>\n",
       "    <tr style=\"text-align: right;\">\n",
       "      <th></th>\n",
       "      <th>Id</th>\n",
       "      <th>Elevation</th>\n",
       "      <th>Aspect</th>\n",
       "      <th>Slope</th>\n",
       "      <th>Horizontal_Distance_To_Hydrology</th>\n",
       "      <th>Vertical_Distance_To_Hydrology</th>\n",
       "      <th>Horizontal_Distance_To_Roadways</th>\n",
       "      <th>Hillshade_9am</th>\n",
       "      <th>Hillshade_Noon</th>\n",
       "      <th>Hillshade_3pm</th>\n",
       "      <th>...</th>\n",
       "      <th>Soil_Type32</th>\n",
       "      <th>Soil_Type33</th>\n",
       "      <th>Soil_Type34</th>\n",
       "      <th>Soil_Type35</th>\n",
       "      <th>Soil_Type36</th>\n",
       "      <th>Soil_Type37</th>\n",
       "      <th>Soil_Type38</th>\n",
       "      <th>Soil_Type39</th>\n",
       "      <th>Soil_Type40</th>\n",
       "      <th>Cover_Type</th>\n",
       "    </tr>\n",
       "  </thead>\n",
       "  <tbody>\n",
       "    <tr>\n",
       "      <th>0</th>\n",
       "      <td>1</td>\n",
       "      <td>2596</td>\n",
       "      <td>51</td>\n",
       "      <td>3</td>\n",
       "      <td>258</td>\n",
       "      <td>0</td>\n",
       "      <td>510</td>\n",
       "      <td>221</td>\n",
       "      <td>232</td>\n",
       "      <td>148</td>\n",
       "      <td>...</td>\n",
       "      <td>0</td>\n",
       "      <td>0</td>\n",
       "      <td>0</td>\n",
       "      <td>0</td>\n",
       "      <td>0</td>\n",
       "      <td>0</td>\n",
       "      <td>0</td>\n",
       "      <td>0</td>\n",
       "      <td>0</td>\n",
       "      <td>5</td>\n",
       "    </tr>\n",
       "    <tr>\n",
       "      <th>1</th>\n",
       "      <td>2</td>\n",
       "      <td>2590</td>\n",
       "      <td>56</td>\n",
       "      <td>2</td>\n",
       "      <td>212</td>\n",
       "      <td>-6</td>\n",
       "      <td>390</td>\n",
       "      <td>220</td>\n",
       "      <td>235</td>\n",
       "      <td>151</td>\n",
       "      <td>...</td>\n",
       "      <td>0</td>\n",
       "      <td>0</td>\n",
       "      <td>0</td>\n",
       "      <td>0</td>\n",
       "      <td>0</td>\n",
       "      <td>0</td>\n",
       "      <td>0</td>\n",
       "      <td>0</td>\n",
       "      <td>0</td>\n",
       "      <td>5</td>\n",
       "    </tr>\n",
       "    <tr>\n",
       "      <th>2</th>\n",
       "      <td>3</td>\n",
       "      <td>2804</td>\n",
       "      <td>139</td>\n",
       "      <td>9</td>\n",
       "      <td>268</td>\n",
       "      <td>65</td>\n",
       "      <td>3180</td>\n",
       "      <td>234</td>\n",
       "      <td>238</td>\n",
       "      <td>135</td>\n",
       "      <td>...</td>\n",
       "      <td>0</td>\n",
       "      <td>0</td>\n",
       "      <td>0</td>\n",
       "      <td>0</td>\n",
       "      <td>0</td>\n",
       "      <td>0</td>\n",
       "      <td>0</td>\n",
       "      <td>0</td>\n",
       "      <td>0</td>\n",
       "      <td>2</td>\n",
       "    </tr>\n",
       "    <tr>\n",
       "      <th>3</th>\n",
       "      <td>4</td>\n",
       "      <td>2785</td>\n",
       "      <td>155</td>\n",
       "      <td>18</td>\n",
       "      <td>242</td>\n",
       "      <td>118</td>\n",
       "      <td>3090</td>\n",
       "      <td>238</td>\n",
       "      <td>238</td>\n",
       "      <td>122</td>\n",
       "      <td>...</td>\n",
       "      <td>0</td>\n",
       "      <td>0</td>\n",
       "      <td>0</td>\n",
       "      <td>0</td>\n",
       "      <td>0</td>\n",
       "      <td>0</td>\n",
       "      <td>0</td>\n",
       "      <td>0</td>\n",
       "      <td>0</td>\n",
       "      <td>2</td>\n",
       "    </tr>\n",
       "    <tr>\n",
       "      <th>4</th>\n",
       "      <td>5</td>\n",
       "      <td>2595</td>\n",
       "      <td>45</td>\n",
       "      <td>2</td>\n",
       "      <td>153</td>\n",
       "      <td>-1</td>\n",
       "      <td>391</td>\n",
       "      <td>220</td>\n",
       "      <td>234</td>\n",
       "      <td>150</td>\n",
       "      <td>...</td>\n",
       "      <td>0</td>\n",
       "      <td>0</td>\n",
       "      <td>0</td>\n",
       "      <td>0</td>\n",
       "      <td>0</td>\n",
       "      <td>0</td>\n",
       "      <td>0</td>\n",
       "      <td>0</td>\n",
       "      <td>0</td>\n",
       "      <td>5</td>\n",
       "    </tr>\n",
       "  </tbody>\n",
       "</table>\n",
       "<p>5 rows × 56 columns</p>\n",
       "</div>"
      ],
      "text/plain": [
       "   Id  Elevation  Aspect  Slope  Horizontal_Distance_To_Hydrology  \\\n",
       "0   1       2596      51      3                               258   \n",
       "1   2       2590      56      2                               212   \n",
       "2   3       2804     139      9                               268   \n",
       "3   4       2785     155     18                               242   \n",
       "4   5       2595      45      2                               153   \n",
       "\n",
       "   Vertical_Distance_To_Hydrology  Horizontal_Distance_To_Roadways  \\\n",
       "0                               0                              510   \n",
       "1                              -6                              390   \n",
       "2                              65                             3180   \n",
       "3                             118                             3090   \n",
       "4                              -1                              391   \n",
       "\n",
       "   Hillshade_9am  Hillshade_Noon  Hillshade_3pm     ...      Soil_Type32  \\\n",
       "0            221             232            148     ...                0   \n",
       "1            220             235            151     ...                0   \n",
       "2            234             238            135     ...                0   \n",
       "3            238             238            122     ...                0   \n",
       "4            220             234            150     ...                0   \n",
       "\n",
       "   Soil_Type33  Soil_Type34  Soil_Type35  Soil_Type36  Soil_Type37  \\\n",
       "0            0            0            0            0            0   \n",
       "1            0            0            0            0            0   \n",
       "2            0            0            0            0            0   \n",
       "3            0            0            0            0            0   \n",
       "4            0            0            0            0            0   \n",
       "\n",
       "   Soil_Type38  Soil_Type39  Soil_Type40  Cover_Type  \n",
       "0            0            0            0           5  \n",
       "1            0            0            0           5  \n",
       "2            0            0            0           2  \n",
       "3            0            0            0           2  \n",
       "4            0            0            0           5  \n",
       "\n",
       "[5 rows x 56 columns]"
      ]
     },
     "execution_count": 2,
     "metadata": {},
     "output_type": "execute_result"
    }
   ],
   "source": [
    "df_train = pd.read_csv(\"train.csv\")\n",
    "df_test = pd.read_csv(\"test.csv\")\n",
    "print(df_train.shape,df_test.shape)\n",
    "df_train.head(5)"
   ]
  },
  {
   "cell_type": "code",
   "execution_count": 3,
   "metadata": {},
   "outputs": [],
   "source": [
    "%matplotlib inline\n",
    "from matplotlib import pyplot as plt, style\n",
    "style.use(\"fivethirtyeight\")"
   ]
  },
  {
   "cell_type": "code",
   "execution_count": 4,
   "metadata": {},
   "outputs": [
    {
     "data": {
      "text/plain": [
       "(0, 2500)"
      ]
     },
     "execution_count": 4,
     "metadata": {},
     "output_type": "execute_result"
    },
    {
     "data": {
      "image/png": "[encoded data removed]",
      "text/plain": [
       "<matplotlib.figure.Figure at 0x7f7d66c012e8>"
      ]
     },
     "metadata": {},
     "output_type": "display_data"
    }
   ],
   "source": [
    "covertype = df_train.Cover_Type.unique()\n",
    "distribution = [len(df_train[df_train.Cover_Type == ct]) for ct in covertype]\n",
    "plt.bar(covertype,distribution,color=\"blue\",alpha=0.5,label=\"total\")\n",
    "plt.ylim((0,2500))\n",
    "#So, we have equal distribution of samples"
   ]
  },
  {
   "cell_type": "code",
   "execution_count": 5,
   "metadata": {},
   "outputs": [
    {
     "name": "stdout",
     "output_type": "stream",
     "text": [
      "Elevation na:0, min:1863, max:3849, mean:2749.3225529100528, std:417.6643750102973\n"
     ]
    },
    {
     "data": {
      "text/plain": [
       "Text(0,0.5,'No of Samples')"
      ]
     },
     "execution_count": 5,
     "metadata": {},
     "output_type": "execute_result"
    },
    {
     "data": {
      "image/png": "[encoded data removed]",
      "text/plain": [
       "<matplotlib.figure.Figure at 0x7f7d5edc3c88>"
      ]
     },
     "metadata": {},
     "output_type": "display_data"
    }
   ],
   "source": [
    "print(\"Elevation na:{}, min:{}, max:{}, mean:{}, std:{}\".format(\n",
    "    len(df_train[df_train['Elevation'].isna()]),np.min(df_train.Elevation),np.max(df_train.Elevation),\n",
    "    np.mean(df_train.Elevation),np.std(df_train.Elevation)\n",
    "))\n",
    "plt.hist(df_train.Elevation.values,bins=100)\n",
    "plt.xlabel(\"Elevation\")\n",
    "plt.ylabel(\"No of Samples\")"
   ]
  },
  {
   "cell_type": "code",
   "execution_count": 6,
   "metadata": {},
   "outputs": [
    {
     "name": "stdout",
     "output_type": "stream",
     "text": [
      "Aspect na:0, min:0, max:360, mean:156.67665343915343, std:110.08216092242522\n"
     ]
    },
    {
     "data": {
      "text/plain": [
       "Text(0,0.5,'No of Samples')"
      ]
     },
     "execution_count": 6,
     "metadata": {},
     "output_type": "execute_result"
    },
    {
     "data": {
      "image/png": "[encoded data removed]",
      "text/plain": [
       "<matplotlib.figure.Figure at 0x7f7d5ec0e780>"
      ]
     },
     "metadata": {},
     "output_type": "display_data"
    }
   ],
   "source": [
    "print(\"Aspect na:{}, min:{}, max:{}, mean:{}, std:{}\".format(\n",
    "    len(df_train[df_train['Aspect'].isna()]),np.min(df_train.Aspect),np.max(df_train.Aspect),\n",
    "    np.mean(df_train.Aspect),np.std(df_train.Aspect)\n",
    "))\n",
    "plt.hist(df_train.Aspect.values,bins=36)\n",
    "plt.xlabel(\"Aspect\")\n",
    "plt.ylabel(\"No of Samples\")"
   ]
  },
  {
   "cell_type": "code",
   "execution_count": 7,
   "metadata": {},
   "outputs": [
    {
     "name": "stdout",
     "output_type": "stream",
     "text": [
      "Slope na:0, min:0, max:52, mean:16.501587301587303, std:8.4536471963071\n"
     ]
    },
    {
     "data": {
      "text/plain": [
       "Text(0,0.5,'No of Samples')"
      ]
     },
     "execution_count": 7,
     "metadata": {},
     "output_type": "execute_result"
    },
    {
     "data": {
      "image/png": "[encoded data removed]",
      "text/plain": [
       "<matplotlib.figure.Figure at 0x7f7d5eda60b8>"
      ]
     },
     "metadata": {},
     "output_type": "display_data"
    }
   ],
   "source": [
    "print(\"Slope na:{}, min:{}, max:{}, mean:{}, std:{}\".format(\n",
    "    len(df_train[df_train['Slope'].isna()]),np.min(df_train.Slope),np.max(df_train.Slope),\n",
    "    np.mean(df_train.Slope),np.std(df_train.Slope)\n",
    "))\n",
    "plt.hist(df_train.Slope.values,bins=52)\n",
    "plt.xlabel(\"Slope\")\n",
    "plt.ylabel(\"No of Samples\")"
   ]
  },
  {
   "cell_type": "code",
   "execution_count": 8,
   "metadata": {
    "collapsed": true
   },
   "outputs": [],
   "source": [
    "from sklearn.preprocessing import StandardScaler\n",
    "scaler = StandardScaler()"
   ]
  },
  {
   "cell_type": "code",
   "execution_count": 9,
   "metadata": {},
   "outputs": [],
   "source": [
    "df = df_train.append(df_test,sort=False)\n",
    "Y = df[:15120][\"Cover_Type\"]\n",
    "X_test_ids = df[15120:].Id\n",
    "df.drop([\"Cover_Type\",\"Id\"],axis=1,inplace=True)\n",
    "df = scaler.fit_transform(df)"
   ]
  },
  {
   "cell_type": "code",
   "execution_count": 10,
   "metadata": {},
   "outputs": [
    {
     "name": "stdout",
     "output_type": "stream",
     "text": [
      "(12096, 54) (3024, 54) (565892, 54)\n"
     ]
    }
   ],
   "source": [
    "X = df[:15120]\n",
    "X_test = df[15120:]\n",
    "from sklearn.model_selection import train_test_split\n",
    "Xt,Xv,Yt,Yv = train_test_split(X,Y,test_size=0.2)\n",
    "print(Xt.shape,Xv.shape,X_test.shape)"
   ]
  },
  {
   "cell_type": "code",
   "execution_count": 11,
   "metadata": {},
   "outputs": [
    {
     "name": "stderr",
     "output_type": "stream",
     "text": [
      "Using TensorFlow backend.\n"
     ]
    }
   ],
   "source": [
    "from keras.models import Sequential\n",
    "from keras.layers import Activation, Dense, Dropout"
   ]
  },
  {
   "cell_type": "code",
   "execution_count": 23,
   "metadata": {},
   "outputs": [],
   "source": [
    "model=Sequential()\n",
    "model.add(Dense(90,activation='relu',input_shape=(54,)))\n",
    "model.add(Dropout(0.2))\n",
    "model.add(Dense(180,activation='relu'))\n",
    "model.add(Dropout(0.2))\n",
    "model.add(Dense(90,activation='relu'))\n",
    "model.add(Dropout(0.2))\n",
    "model.add(Dense(32,activation='relu'))\n",
    "model.add(Dropout(0.2))\n",
    "model.add(Dense(7,activation='softmax'))"
   ]
  },
  {
   "cell_type": "code",
   "execution_count": 26,
   "metadata": {},
   "outputs": [],
   "source": [
    "from keras.optimizers import adam\n",
    "from keras.losses import categorical_crossentropy\n",
    "\n",
    "adam = adam(lr=0.001,decay=0.001,amsgrad=True)\n",
    "model.compile(adam,loss=categorical_crossentropy,metrics=['accuracy'])"
   ]
  },
  {
   "cell_type": "code",
   "execution_count": 27,
   "metadata": {},
   "outputs": [
    {
     "name": "stdout",
     "output_type": "stream",
     "text": [
      "Train on 12096 samples, validate on 3024 samples\n",
      "Epoch 1/20\n",
      "12096/12096 [==============================] - 8s 653us/step - loss: 0.8168 - acc: 0.6599 - val_loss: 0.6714 - val_acc: 0.7183\n",
      "Epoch 2/20\n",
      "12096/12096 [==============================] - 7s 570us/step - loss: 0.7574 - acc: 0.6846 - val_loss: 0.6610 - val_acc: 0.7259\n",
      "Epoch 3/20\n",
      "12096/12096 [==============================] - 7s 576us/step - loss: 0.7282 - acc: 0.6951 - val_loss: 0.6316 - val_acc: 0.7315\n",
      "Epoch 4/20\n",
      "12096/12096 [==============================] - 7s 592us/step - loss: 0.7131 - acc: 0.6974 - val_loss: 0.6226 - val_acc: 0.7295\n",
      "Epoch 5/20\n",
      "12096/12096 [==============================] - 7s 599us/step - loss: 0.7042 - acc: 0.7035 - val_loss: 0.6186 - val_acc: 0.7361\n",
      "Epoch 6/20\n",
      "12096/12096 [==============================] - 8s 623us/step - loss: 0.6970 - acc: 0.7053 - val_loss: 0.6114 - val_acc: 0.7401\n",
      "Epoch 7/20\n",
      "12096/12096 [==============================] - 7s 607us/step - loss: 0.6883 - acc: 0.7140 - val_loss: 0.6095 - val_acc: 0.7447\n",
      "Epoch 8/20\n",
      "12096/12096 [==============================] - 8s 625us/step - loss: 0.6814 - acc: 0.7145 - val_loss: 0.6053 - val_acc: 0.7450\n",
      "Epoch 9/20\n",
      "12096/12096 [==============================] - 7s 620us/step - loss: 0.6792 - acc: 0.7170 - val_loss: 0.6034 - val_acc: 0.7457\n",
      "Epoch 10/20\n",
      "12096/12096 [==============================] - 8s 629us/step - loss: 0.6771 - acc: 0.7195 - val_loss: 0.6015 - val_acc: 0.7440\n",
      "Epoch 11/20\n",
      "12096/12096 [==============================] - 7s 602us/step - loss: 0.6747 - acc: 0.7197 - val_loss: 0.5955 - val_acc: 0.7480\n",
      "Epoch 12/20\n",
      "12096/12096 [==============================] - 7s 612us/step - loss: 0.6699 - acc: 0.7218 - val_loss: 0.5946 - val_acc: 0.7457\n",
      "Epoch 13/20\n",
      "12096/12096 [==============================] - 7s 618us/step - loss: 0.6693 - acc: 0.7199 - val_loss: 0.5951 - val_acc: 0.7500\n",
      "Epoch 14/20\n",
      "12096/12096 [==============================] - 7s 613us/step - loss: 0.6713 - acc: 0.7214 - val_loss: 0.5939 - val_acc: 0.7490\n",
      "Epoch 15/20\n",
      "12096/12096 [==============================] - 8s 622us/step - loss: 0.6665 - acc: 0.7248 - val_loss: 0.5910 - val_acc: 0.7454\n",
      "Epoch 16/20\n",
      "12096/12096 [==============================] - 7s 615us/step - loss: 0.6577 - acc: 0.7250 - val_loss: 0.5896 - val_acc: 0.7483\n",
      "Epoch 17/20\n",
      "12096/12096 [==============================] - 8s 648us/step - loss: 0.6569 - acc: 0.7250 - val_loss: 0.5860 - val_acc: 0.7490\n",
      "Epoch 18/20\n",
      "12096/12096 [==============================] - 8s 674us/step - loss: 0.6590 - acc: 0.7226 - val_loss: 0.5876 - val_acc: 0.7490\n",
      "Epoch 19/20\n",
      "12096/12096 [==============================] - 7s 620us/step - loss: 0.6480 - acc: 0.7322 - val_loss: 0.5862 - val_acc: 0.7490\n",
      "Epoch 20/20\n",
      "12096/12096 [==============================] - 8s 651us/step - loss: 0.6484 - acc: 0.7285 - val_loss: 0.5849 - val_acc: 0.7533\n"
     ]
    },
    {
     "data": {
      "text/plain": [
       "<keras.callbacks.History at 0x7f7cc0b27e80>"
      ]
     },
     "execution_count": 27,
     "metadata": {},
     "output_type": "execute_result"
    }
   ],
   "source": [
    "num_classes = 7\n",
    "batch_size = 8\n",
    "epochs = 20\n",
    "\n",
    "from keras.utils import np_utils\n",
    "Yt_labels = np_utils.to_categorical(Yt.astype('int')-1,num_classes=num_classes)\n",
    "Yv_labels = np_utils.to_categorical(Yv.astype('int')-1,num_classes=num_classes)\n",
    "\n",
    "model.fit(Xt,Yt_labels,\n",
    "         batch_size=batch_size,\n",
    "         epochs=epochs,\n",
    "         verbose=1,\n",
    "         validation_data=(Xv,Yv_labels))"
   ]
  },
  {
   "cell_type": "code",
   "execution_count": 28,
   "metadata": {},
   "outputs": [],
   "source": [
    "predictLabels = model.predict(X_test)"
   ]
  },
  {
   "cell_type": "code",
   "execution_count": 50,
   "metadata": {},
   "outputs": [
    {
     "data": {
      "text/plain": [
       "41994"
      ]
     },
     "execution_count": 50,
     "metadata": {},
     "output_type": "execute_result"
    }
   ],
   "source": [
    "predictions = np.argmax(predictLabels,axis=1)+1"
   ]
  },
  {
   "cell_type": "code",
   "execution_count": 51,
   "metadata": {
    "collapsed": true
   },
   "outputs": [],
   "source": [
    "results = pd.DataFrame({\n",
    "    \"Id\":X_test_ids.values,\n",
    "    \"Cover_Type\":predictions\n",
    "})"
   ]
  },
  {
   "cell_type": "code",
   "execution_count": 53,
   "metadata": {
    "collapsed": true
   },
   "outputs": [],
   "source": [
    "results.to_csv(\"sol.csv\",index=False)"
   ]
  },
  {
   "cell_type": "code",
   "execution_count": null,
   "metadata": {
    "collapsed": true
   },
   "outputs": [],
   "source": []
  }
 ],
 "metadata": {
  "kernelspec": {
   "display_name": "Python 3",
   "language": "python",
   "name": "python3"
  },
  "language_info": {
   "codemirror_mode": {
    "name": "ipython",
    "version": 3
   },
   "file_extension": ".py",
   "mimetype": "text/x-python",
   "name": "python",
   "nbconvert_exporter": "python",
   "pygments_lexer": "ipython3",
   "version": "3.6.3"
  }
 },
 "nbformat": 4,
 "nbformat_minor": 2
}
