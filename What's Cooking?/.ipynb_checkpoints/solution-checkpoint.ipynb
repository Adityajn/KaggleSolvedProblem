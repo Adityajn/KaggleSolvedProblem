{
 "cells": [
  {
   "cell_type": "code",
   "execution_count": 1,
   "metadata": {
    "collapsed": true
   },
   "outputs": [],
   "source": [
    "import numpy as np\n",
    "import pandas as pd\n",
    "\n",
    "%matplotlib inline\n",
    "from matplotlib import pyplot as plt, style\n",
    "style.use('ggplot')\n",
    "\n",
    "import json"
   ]
  },
  {
   "cell_type": "code",
   "execution_count": 2,
   "metadata": {},
   "outputs": [
    {
     "data": {
      "text/plain": [
       "{'cuisine': 'southern_us',\n",
       " 'id': 25693,\n",
       " 'ingredients': ['plain flour',\n",
       "  'ground pepper',\n",
       "  'salt',\n",
       "  'tomatoes',\n",
       "  'ground black pepper',\n",
       "  'thyme',\n",
       "  'eggs',\n",
       "  'green tomatoes',\n",
       "  'yellow corn meal',\n",
       "  'milk',\n",
       "  'vegetable oil']}"
      ]
     },
     "execution_count": 2,
     "metadata": {},
     "output_type": "execute_result"
    }
   ],
   "source": [
    "train = open('train.json','r').read()\n",
    "train_json = json.loads(train)\n",
    "test = open('test.json','r').read()\n",
    "test_json = json.loads(test)\n",
    "train_json[1]"
   ]
  },
  {
   "cell_type": "code",
   "execution_count": 3,
   "metadata": {},
   "outputs": [
    {
     "data": {
      "text/plain": [
       "6714"
      ]
     },
     "execution_count": 3,
     "metadata": {},
     "output_type": "execute_result"
    }
   ],
   "source": [
    "total_ingredients = set()\n",
    "for curr_json in train_json:\n",
    "    for x in curr_json['ingredients']:\n",
    "        total_ingredients.add(x)\n",
    "len(total_ingredients)"
   ]
  },
  {
   "cell_type": "code",
   "execution_count": 4,
   "metadata": {
    "scrolled": true
   },
   "outputs": [
    {
     "data": {
      "text/plain": [
       "6716"
      ]
     },
     "execution_count": 4,
     "metadata": {},
     "output_type": "execute_result"
    }
   ],
   "source": [
    "df_dict = dict()\n",
    "df_dict['id']=[]\n",
    "df_dict['cuisine']=[]\n",
    "for ingredient_name in total_ingredients:\n",
    "    df_dict[ingredient_name]=[]\n",
    "len(df_dict)"
   ]
  },
  {
   "cell_type": "code",
   "execution_count": 5,
   "metadata": {
    "collapsed": true
   },
   "outputs": [],
   "source": [
    "train_df = pd.DataFrame(df_dict,dtype=np.int64)\n",
    "test_df = train_df.copy()"
   ]
  },
  {
   "cell_type": "code",
   "execution_count": null,
   "metadata": {
    "collapsed": true,
    "scrolled": true
   },
   "outputs": [],
   "source": [
    "i = 0\n",
    "empty_list = [0]*len(total_ingredients)\n",
    "for curr_json in train_json:\n",
    "    train_df.loc[i] =  [curr_json['id'],curr_json['cuisine']]+empty_list\n",
    "    for ingredient in curr_json['ingredients']:\n",
    "        train_df.at[i,ingredient] = 1\n",
    "    i+=1\n",
    "train_df.head()"
   ]
  },
  {
   "cell_type": "code",
   "execution_count": null,
   "metadata": {
    "collapsed": true
   },
   "outputs": [],
   "source": []
  }
 ],
 "metadata": {
  "kernelspec": {
   "display_name": "Python 3",
   "language": "python",
   "name": "python3"
  },
  "language_info": {
   "codemirror_mode": {
    "name": "ipython",
    "version": 3
   },
   "file_extension": ".py",
   "mimetype": "text/x-python",
   "name": "python",
   "nbconvert_exporter": "python",
   "pygments_lexer": "ipython3",
   "version": "3.6.3"
  }
 },
 "nbformat": 4,
 "nbformat_minor": 2
}
